{
 "cells": [
  {
   "cell_type": "markdown",
   "id": "aa361303",
   "metadata": {},
   "source": [
    "# The numpy.random Package  ![Numpy Logo](  https://numpy.org/doc/stable/_static/numpylogo.svg)\n",
    "***"
   ]
  },
  {
   "cell_type": "markdown",
   "id": "63e8f784",
   "metadata": {},
   "source": [
    "## Overview\n",
    "There are an abundance of tutorials, documentation , jupyter notebooks, etc on the numpy.random package available on the web( some of the best are mentioned in the resouces section of this notebook below.  \n",
    "This is not an attempt at a tutorial or an in-depth discussion of any of the features of the package( which is best left to the experts), moreover it is a quick overview of what is available in the package, how to use it, and brief explanations of their purpose.\n",
    "<br>   \n",
    "Numpy.org documentation pages state that:  \n",
    "\"Numpy’s random number routines produce pseudo random numbers using combinations of a BitGenerator to create sequences and a Generator to use those sequences to sample from different statistical distributions.\"[2]\n",
    "<br>   \n",
    "What exactly does this mean? \n",
    "<br>   \n",
    "Lets take a look at what random numbers, pseudo random numbers, bit generators, generators, sequences, sampling and statistical distributions are.\n",
    "<br>   \n",
    "\n",
    "***"
   ]
  },
  {
   "cell_type": "markdown",
   "id": "54e413e4",
   "metadata": {},
   "source": [
    "## “Simple random data” and “Permutations”\n",
    "Explain use of these functions"
   ]
  },
  {
   "cell_type": "markdown",
   "id": "eb83b9ae",
   "metadata": {},
   "source": [
    "## Distributions\n",
    "Explain use and purpose of five of these\n",
    "Possibles - Normal,Uniform,Pareto,"
   ]
  },
  {
   "cell_type": "markdown",
   "id": "18cef4bc",
   "metadata": {},
   "source": [
    "## Seeds\n",
    "Explain the use of seeds in generating pseudorandom numbers."
   ]
  },
  {
   "cell_type": "markdown",
   "id": "ef617936",
   "metadata": {},
   "source": [
    "## References"
   ]
  },
  {
   "cell_type": "markdown",
   "id": "fb9ef229",
   "metadata": {},
   "source": [
    "https://numpy.org/doc/stable/reference/random/generator.html   \n",
    "[2] https://numpy.org/doc/stable/reference/random/index.html?highlight=random#quick-start"
   ]
  },
  {
   "cell_type": "markdown",
   "id": "0f6e0a90-650b-490a-aedf-f3ad9f18c5f0",
   "metadata": {},
   "source": [
    "## Resources\n",
    "\n",
    "https://www.random.org/randomness/"
   ]
  }
 ],
 "metadata": {
  "kernelspec": {
   "display_name": "Python 3",
   "language": "python",
   "name": "python3"
  },
  "language_info": {
   "codemirror_mode": {
    "name": "ipython",
    "version": 3
   },
   "file_extension": ".py",
   "mimetype": "text/x-python",
   "name": "python",
   "nbconvert_exporter": "python",
   "pygments_lexer": "ipython3",
   "version": "3.8.8"
  }
 },
 "nbformat": 4,
 "nbformat_minor": 5
}
