{
 "cells": [
  {
   "cell_type": "markdown",
   "id": "aa361303",
   "metadata": {},
   "source": [
    "# The numpy.random Package  ![Numpy Logo](  https://numpy.org/doc/stable/_static/numpylogo.svg)\n",
    "***"
   ]
  },
  {
   "cell_type": "markdown",
   "id": "63e8f784",
   "metadata": {},
   "source": [
    "## Overview\n",
    "There are an abundance of tutorials, documentation , jupyter notebooks, etc on the numpy.random package available on the web( some of the best are mentioned in the resouces section of this notebook below).  \n",
    "This is not an attempt at a tutorial or an in-depth discussion of any of the features of the package( which is best left to the experts), moreover it is a quick overview of what is available in the package, how to use it,brief explanations of their purpose and where to go for further information.\n",
    "<br>   \n",
    "Numpy.org documentation pages state that:  \n",
    "\"Numpy’s random number routines produce pseudo random numbers using combinations of a BitGenerator to create sequences and a Generator to use those sequences to sample from different statistical distributions.\"[2]\n",
    "<br>   \n",
    "What exactly does this mean? \n",
    "<br>   \n",
    "Lets take a look at what random numbers, pseudo random numbers, bit generators, generators, sequences, sampling and statistical distributions are.\n",
    "<br>   \n",
    "\n",
    "***"
   ]
  },
  {
   "cell_type": "markdown",
   "id": "2f11af7e-b396-489f-9c46-bfd57bc336df",
   "metadata": {},
   "source": [
    "### Random Numbers\n",
    "#### Intro  \n",
    "#### True random\n",
    "#### Pseudo random\n",
    "\n",
    "### Generators\n",
    "#### Bit gen\n",
    "#### Gen\n",
    "*** "
   ]
  },
  {
   "cell_type": "markdown",
   "id": "7e2a7f40-73e8-456d-893c-d1a687658ce3",
   "metadata": {},
   "source": [
    "## “Simple random data” and “Permutations”\n",
    "https://numpy.org/doc/stable/reference/random/generator.html#simple-random-data\n",
    "### Simple random data\n",
    "#### Integers\n",
    "https://numpy.org/doc/stable/reference/random/generated/numpy.random.Generator.integers.html#numpy.random.Generator.integers\n",
    "#### Random\n",
    "https://numpy.org/doc/stable/reference/random/generated/numpy.random.Generator.random.html#numpy.random.Generator.random\n",
    "#### Choice\n",
    "https://numpy.org/doc/stable/reference/random/generated/numpy.random.Generator.choice.html#numpy.random.Generator.choice\n",
    "#### Bytes\n",
    "https://numpy.org/doc/stable/reference/random/generated/numpy.random.Generator.bytes.html#numpy.random.Generator.bytes\n"
   ]
  },
  {
   "cell_type": "markdown",
   "id": "e744549e-6455-4683-8992-17cf8b237bf1",
   "metadata": {},
   "source": [
    "### Permutations\n",
    "#### shuffle\n",
    "https://numpy.org/doc/stable/reference/random/generated/numpy.random.Generator.shuffle.html#numpy.random.Generator.shuffle\n",
    "#### permutation\n",
    "https://numpy.org/doc/stable/reference/random/generated/numpy.random.Generator.permutation.html#numpy.random.Generator.permutation\n",
    "#### permuted\n",
    "https://numpy.org/doc/stable/reference/random/generated/numpy.random.Generator.permuted.html#numpy.random.Generator.permuted\n",
    "\n",
    "***  "
   ]
  },
  {
   "cell_type": "markdown",
   "id": "eb83b9ae",
   "metadata": {},
   "source": [
    "## Distributions\n",
    "what is a statistical distribution\n",
    "\n",
    "list the types, \n",
    "\n",
    "Explain use and purpose of five of these\n",
    "Possibles - Uniform, Normal, Binomial, Pareto, ChiSquare"
   ]
  },
  {
   "cell_type": "markdown",
   "id": "e4059597-0ff2-4ef6-814c-752a94488ec8",
   "metadata": {},
   "source": [
    "### Uniform\n",
    "https://numpy.org/doc/stable/reference/random/generated/numpy.random.Generator.uniform.html#numpy.random.Generator.uniform"
   ]
  },
  {
   "cell_type": "markdown",
   "id": "f42f4ee0-19e0-4157-84c6-0859c41c526c",
   "metadata": {},
   "source": [
    "### Normal\n",
    "https://numpy.org/doc/stable/reference/random/generated/numpy.random.Generator.normal.html#numpy.random.Generator.normal"
   ]
  },
  {
   "cell_type": "markdown",
   "id": "6e9c39c5-10aa-4214-99d5-e320a78b6f01",
   "metadata": {},
   "source": [
    "### Binomial\n",
    "https://numpy.org/doc/stable/reference/random/generated/numpy.random.Generator.binomial.html#numpy.random.Generator.binomial"
   ]
  },
  {
   "cell_type": "markdown",
   "id": "8649d24d-38d2-486b-ac5f-a09a9cb60813",
   "metadata": {},
   "source": [
    "### Pareto\n",
    "https://numpy.org/doc/stable/reference/random/generated/numpy.random.Generator.pareto.html#numpy.random.Generator.pareto"
   ]
  },
  {
   "cell_type": "markdown",
   "id": "f2a09c9f-e26e-40fa-9ec6-c0103858c1dd",
   "metadata": {},
   "source": [
    "### ChiSquare\n",
    "https://numpy.org/doc/stable/reference/random/generated/numpy.random.Generator.chisquare.html#numpy.random.Generator.chisquare\n",
    "\n",
    "***  "
   ]
  },
  {
   "cell_type": "markdown",
   "id": "18cef4bc",
   "metadata": {},
   "source": [
    "## Seeds\n",
    "Explain the use of seeds in generating pseudorandom numbers.\n",
    "\n",
    "***  "
   ]
  },
  {
   "cell_type": "markdown",
   "id": "ef617936",
   "metadata": {},
   "source": [
    "## References"
   ]
  },
  {
   "cell_type": "markdown",
   "id": "fb9ef229",
   "metadata": {},
   "source": [
    "https://numpy.org/doc/stable/reference/random/generator.html   \n",
    "[2] https://numpy.org/doc/stable/reference/random/index.html?highlight=random#quick-start"
   ]
  },
  {
   "cell_type": "markdown",
   "id": "0f6e0a90-650b-490a-aedf-f3ad9f18c5f0",
   "metadata": {},
   "source": [
    "## Resources\n",
    "\n",
    "https://www.random.org/randomness/\n",
    "\n",
    "https://en.wikipedia.org/wiki/Randomness\n",
    "\n"
   ]
  },
  {
   "cell_type": "markdown",
   "id": "4ffbba55-5529-497e-b834-b73aee54b323",
   "metadata": {},
   "source": [
    "Distributions\n",
    "\n",
    "beta(a, b[, size]) Draw samples from a Beta distribution.\n",
    "\n",
    "binomial(n, p[, size]) Draw samples from a binomial distribution.\n",
    "\n",
    "chisquare(df[, size]) Draw samples from a chi-square distribution.\n",
    "\n",
    "dirichlet(alpha[, size]) Draw samples from the Dirichlet distribution.\n",
    "\n",
    "exponential([scale, size]) Draw samples from an exponential distribution.\n",
    "\n",
    "f(dfnum, dfden[, size]) Draw samples from an f distribution.\n",
    "\n",
    "gamma(shape[, scale, size]) Draw samples from a Gamma distribution.\n",
    "\n",
    "geometric(p[, size] Draw samples from the geometric distribution.\n",
    "\n",
    "gumbel([loc, scale, size]) Draw samples from a Gumbel distribution.\n",
    "\n",
    "hypergeometric(ngood, nbad, nsample[, size]) Draw samples from a Hypergeometric distribution.\n",
    "\n",
    "laplace([loc, scale, size]) Draw samples from the Laplace or double exponential distribution with specified location (or mean) and scale (decay).\n",
    "\n",
    "logistic([loc, scale, size]) Draw samples from a logistic distribution.\n",
    "\n",
    "lognormal([mean, sigma, size]) Draw samples from a log-normal distribution.\n",
    "\n",
    "logseries(p[, size]) Draw samples from a logarithmic series distribution.\n",
    "\n",
    "multinomial(n, pvals[, size]) Draw samples from a multinomial distribution.\n",
    "\n",
    "multivariate_hypergeometric(colors, nsample) Generate variates from a multivariate hypergeometric distribution.\n",
    "\n",
    "multivariate_normal(mean, cov[, size, …]) Draw random samples from a multivariate normal distribution.\n",
    "\n",
    "negative_binomial(n, p[, size]) Draw samples from a negative binomial distribution.\n",
    "\n",
    "noncentral_chisquare(df, nonc[, size]) Draw samples from a noncentral chi-square distribution.\n",
    "\n",
    "noncentral_f(dfnum, dfden, nonc[, size]) Draw samples from the noncentral F distribution.\n",
    "\n",
    "normal([loc, scale, size]) Draw random samples from a normal (Gaussian) distribution.\n",
    "\n",
    "pareto(a[, size]) Draw samples from a Pareto II or Lomax distribution with specified shape.\n",
    "\n",
    "poisson([lam, size]) Draw samples from a Poisson distribution.\n",
    "\n",
    "power(a[, size]) Draws samples in [0, 1] from a power distribution with positive exponent a - 1.\n",
    "\n",
    "rayleigh([scale, size]) Draw samples from a Rayleigh distribution.\n",
    "\n",
    "standard_cauchy([size]) Draw samples from a standard Cauchy distribution with mode = 0.\n",
    "\n",
    "standard_exponential([size, dtype, method, out]) Draw samples from the standard exponential distribution.\n",
    "\n",
    "standard_gamma(shape[, size, dtype, out] Draw samples from a standard Gamma distribution.\n",
    "\n",
    "standard_normal([size, dtype, out]) Draw samples from a standard Normal distribution (mean=0, stdev=1).\n",
    "\n",
    "standard_t(df[, size]) Draw samples from a standard Student’s t distribution with df degrees of freedom.\n",
    "\n",
    "triangular(left, mode, right[, size]) Draw samples from the triangular distribution over the interval [left, right].\n",
    "\n",
    "uniform([low, high, size]) Draw samples from a uniform distribution.\n",
    "\n",
    "vonmises(mu, kappa[, size]) Draw samples from a von Mises distribution.\n",
    "\n",
    "wald(mean, scale[, size]) Draw samples from a Wald, or inverse Gaussian, distribution.\n",
    "\n",
    "weibull(a[, size]) Draw samples from a Weibull distribution.\n",
    "\n",
    "zipf(a[, size]) Draw samples from a Zipf distribution."
   ]
  }
 ],
 "metadata": {
  "kernelspec": {
   "display_name": "Python 3",
   "language": "python",
   "name": "python3"
  },
  "language_info": {
   "codemirror_mode": {
    "name": "ipython",
    "version": 3
   },
   "file_extension": ".py",
   "mimetype": "text/x-python",
   "name": "python",
   "nbconvert_exporter": "python",
   "pygments_lexer": "ipython3",
   "version": "3.8.8"
  }
 },
 "nbformat": 4,
 "nbformat_minor": 5
}
