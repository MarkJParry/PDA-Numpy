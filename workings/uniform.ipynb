{
 "cells": [
  {
   "cell_type": "code",
   "execution_count": null,
   "id": "45126663-ed27-40a3-82f9-88453d172237",
   "metadata": {
    "tags": []
   },
   "outputs": [],
   "source": [
    "import numpy as np\n",
    "import matplotlib.pyplot as plt\n",
    "import math\n",
    "import seaborn as sns\n",
    "\n",
    "rng = np.random.default_rng(seed=1)\n",
    "no_rolls=1000\n",
    "%matplotlib inline"
   ]
  },
  {
   "cell_type": "code",
   "execution_count": null,
   "id": "6d552303-982a-45c9-a509-584d1995c433",
   "metadata": {},
   "outputs": [],
   "source": [
    "# Plot size.\n",
    "plt.rcParams[\"figure.figsize\"] = (10, 6)\n",
    "\n",
    "# Pyplot style.\n",
    "plt.style.use('seaborn')"
   ]
  },
  {
   "cell_type": "code",
   "execution_count": null,
   "id": "9ca9e998-b110-46ec-a770-7d5f5b774c9a",
   "metadata": {},
   "outputs": [],
   "source": [
    "Suit = [\"Spades\",\"Diamonds\",\"Hearts\",\"Clubs\"]\n",
    "Card = [2,3,4,5,6,7,8,9,10,\"Jack\",\"Queen\",\"King\",\"Ace\"]\n",
    "Deck = []\n",
    "for s in Suit:\n",
    "    for c in Card:\n",
    "        Deck.append(str(c) + \" of \" + s)\n",
    "print(Deck)"
   ]
  },
  {
   "cell_type": "code",
   "execution_count": null,
   "id": "8619d6df-ec52-4317-b54b-68d12b52cb58",
   "metadata": {},
   "outputs": [],
   "source": [
    "rng.shuffle(Deck)"
   ]
  },
  {
   "cell_type": "code",
   "execution_count": null,
   "id": "7793fa71-13b1-48f4-99be-1670e4776602",
   "metadata": {},
   "outputs": [],
   "source": [
    "print(Deck)"
   ]
  },
  {
   "cell_type": "code",
   "execution_count": null,
   "id": "e9f2018f-00a3-49f9-8dea-52e61ae43888",
   "metadata": {},
   "outputs": [],
   "source": [
    "#deal 5 cards i.e. randomly select 5 cards from the deck\n",
    "#this is 5 random samples from the deck it is not dealing from the deck\n",
    "rng.choice(Deck,5)"
   ]
  },
  {
   "cell_type": "code",
   "execution_count": null,
   "id": "d23b4841-798a-4576-a13d-7e624784dc7f",
   "metadata": {},
   "outputs": [],
   "source": [
    "dist= rng.uniform(.5,4.5,no_rolls)\n",
    "#print(dist)"
   ]
  },
  {
   "cell_type": "code",
   "execution_count": null,
   "id": "d683dbce-4235-410a-8fa5-5370e13b3ed4",
   "metadata": {},
   "outputs": [],
   "source": [
    "#count, bins, ignored = plt.hist(dist, 4, density=True)\n",
    "#plt.plot(bins, np.ones_like(bins), linewidth=2, color='r')\n",
    "#plt.show()\n",
    "plt.hist(dist,4,density=True)\n",
    "\n",
    "#chances of getting heart,club,spade or diamond are one in 4 or .25\n",
    "prob=np.full(6,.25)\n",
    "plt.plot(prob,color=\"r\")\n",
    "plt.show()"
   ]
  },
  {
   "cell_type": "markdown",
   "id": "855a8ebe-ce9d-460f-8b71-44461d50386e",
   "metadata": {},
   "source": [
    "### Handmade trial"
   ]
  },
  {
   "cell_type": "code",
   "execution_count": null,
   "id": "51804a74-a70a-44fd-abea-0718b7dfda8d",
   "metadata": {},
   "outputs": [],
   "source": [
    "#try with a dice\n",
    "Dice=[1,2,3,4,5,6]\n",
    "#single roll\n",
    "roll = rng.choice(Dice)\n",
    "print(roll)"
   ]
  },
  {
   "cell_type": "code",
   "execution_count": null,
   "id": "b042657d-1325-493c-a5dc-429b9886298f",
   "metadata": {},
   "outputs": [],
   "source": [
    "#multiple rolls\n",
    "Rolls = rng.integers(1,7,no_rolls)\n",
    "#print(Rolls)"
   ]
  },
  {
   "cell_type": "code",
   "execution_count": null,
   "id": "318428b4-0d5c-4c60-b0fc-cca886825279",
   "metadata": {},
   "outputs": [],
   "source": [
    "counts = np.bincount(Rolls)\n",
    "print(counts)\n",
    "#plt.hist(Rolls,6,density=True)\n",
    "#Dist = rng.uniform(1,6,50)\n",
    "#plt.hist(Dist,6,density=True)"
   ]
  },
  {
   "cell_type": "code",
   "execution_count": null,
   "id": "7de3815f-cca6-4218-b3e2-72219650b8f6",
   "metadata": {},
   "outputs": [],
   "source": [
    "values,counts = np.unique(Rolls,return_counts=True)"
   ]
  },
  {
   "cell_type": "code",
   "execution_count": null,
   "id": "c0655f28-3295-4ccc-8d71-85723d5805ad",
   "metadata": {},
   "outputs": [],
   "source": [
    "print(values)"
   ]
  },
  {
   "cell_type": "code",
   "execution_count": null,
   "id": "eb23fca5-34fa-48b5-81b6-bbfaed3c3513",
   "metadata": {},
   "outputs": [],
   "source": [
    "print(counts)"
   ]
  },
  {
   "cell_type": "code",
   "execution_count": null,
   "id": "2ae9dcfe-a3c3-4e4e-b4f6-e43dfafed80b",
   "metadata": {},
   "outputs": [],
   "source": [
    "plt.plot(values,counts)\n",
    "ex=np.full(8,166)\n",
    "plt.plot(ex)\n",
    "plt.show()"
   ]
  },
  {
   "cell_type": "code",
   "execution_count": null,
   "id": "1826dfd0-c2f4-474d-9d07-cf1de0bc670b",
   "metadata": {},
   "outputs": [],
   "source": [
    "#increase no_rolls\n",
    "#no_rolls = 10000\n",
    "#regen\n",
    "Rolls = rng.integers(1,7,no_rolls)\n",
    "#plt.plot(counts,color=\"g\")\n",
    "#plt.plot(expected,color=\"r\")\n",
    "\n",
    "expected = np.full(8,.166)\n",
    "print(expected)\n",
    "plt.hist(Rolls,bins=[1,2,3,4,5,6,7],density=True,align='left')\n",
    "plt.plot(expected,color=\"r\")\n",
    "plt.show()"
   ]
  },
  {
   "cell_type": "code",
   "execution_count": null,
   "id": "6bb623bf-4add-46de-9467-4ac0e01e5574",
   "metadata": {},
   "outputs": [],
   "source": [
    "plt.show()"
   ]
  },
  {
   "cell_type": "markdown",
   "id": "3b03e845-166a-46a6-ad5c-429b810da946",
   "metadata": {},
   "source": [
    "### Using uniform"
   ]
  },
  {
   "cell_type": "code",
   "execution_count": null,
   "id": "19ff512f-fa13-4807-a274-3f12b17526da",
   "metadata": {},
   "outputs": [],
   "source": [
    "TheDice = rng.uniform(1,7,no_rolls)\n",
    "print(TheDice[:100])"
   ]
  },
  {
   "cell_type": "code",
   "execution_count": null,
   "id": "5328df9f-3156-4eb3-bb10-6cb5d1b4e417",
   "metadata": {},
   "outputs": [],
   "source": [
    "test = np.around(rng.uniform(low = 1, high = 6, size = 1),0)\n",
    "print(test)"
   ]
  },
  {
   "cell_type": "code",
   "execution_count": null,
   "id": "decd38bd-8a36-4830-9420-90c6ce3ffed6",
   "metadata": {},
   "outputs": [],
   "source": [
    "expected=np.full(8,.166)\n",
    "plt.hist(TheDice,bins=[1,2,3,4,5,6,7],density=True,align=\"left\")\n",
    "#plt.plot(counts,color=\"g\")\n",
    "plt.plot(expected,color=\"r\")\n",
    "plt.show()"
   ]
  },
  {
   "cell_type": "markdown",
   "id": "a0b7b256-bb3b-4e58-829f-c640cf6b4277",
   "metadata": {},
   "source": [
    "The more rolls we sample the closer the bars get to the expected probability for each face of the dice --- need to figure how to show this as probabilities between 0 an 1 ie 16% = .16  NB - this is exactly what density=True does"
   ]
  },
  {
   "cell_type": "code",
   "execution_count": null,
   "id": "0f53bb02-2c52-486c-9f81-7a5759ead1ac",
   "metadata": {},
   "outputs": [],
   "source": [
    "TheDice = rng.uniform(1,7,no_rolls*100)\n",
    "plt.hist(TheDice,bins=[1,2,3,4,5,6,7],align='left',density=True)\n",
    "plt.plot(expected,color=\"r\")\n",
    "plt.show()"
   ]
  },
  {
   "cell_type": "markdown",
   "id": "e878f6c1-3a8b-4707-a07a-628ba3d468e2",
   "metadata": {},
   "source": [
    "### Triangular or 2 dice"
   ]
  },
  {
   "cell_type": "markdown",
   "id": "d99c0172-5c9f-4659-8137-d2f9c6b0dc8c",
   "metadata": {},
   "source": [
    "Two dice will give the range 2 to 12\n",
    "with probabilities 0.027777778,0.055555556,0.083333333,0.111111111,0.138888889,0.166666667,0.138888889,0.111111111,0.083333333,0.055555556,0.027777778\n"
   ]
  },
  {
   "cell_type": "code",
   "execution_count": null,
   "id": "86ef50a8-4477-46f2-a0e4-c60a83048e52",
   "metadata": {},
   "outputs": [],
   "source": [
    "values = [2,3,4,5,6,7,8,9,10,11,12]\n",
    "probs = [0.027777778,0.055555556,0.083333333,0.111111111,0.138888889,0.166666667,0.138888889,0.111111111,0.083333333,0.055555556,0.027777778]"
   ]
  },
  {
   "cell_type": "code",
   "execution_count": null,
   "id": "ad28ab0c-40c8-42fb-ac1d-4b8233a97a02",
   "metadata": {},
   "outputs": [],
   "source": [
    "twoDice = rng.triangular(2,7,13,no_rolls)\n",
    "plt.hist(twoDice,bins=[2,3,4,5,6,7,8,9,10,11,12,13],density=True,align='left')\n",
    "plt.plot(values,probs,color=\"r\")"
   ]
  },
  {
   "cell_type": "markdown",
   "id": "c8ee128c-f1d4-410e-9591-3b434e0546bc",
   "metadata": {},
   "source": [
    "### Binomial or many dice   \n",
    "\n",
    "binomial parameters are (n,p,size)   \n",
    "where n is the number of trials,p is the probability of the outcome and size is the number of tests\n",
    "\n",
    "need to prove this to myself - what are generated numbers?\n",
    "\n",
    "2,12 have a probability of .027 when two dice are thrown"
   ]
  },
  {
   "cell_type": "code",
   "execution_count": null,
   "id": "09ad990f-2a72-487f-8399-25da1d23ff68",
   "metadata": {},
   "outputs": [],
   "source": [
    "manyDice = rng.binomial(100,.027,10000)\n",
    "print(manyDice)\n",
    "print(manyDice.mean())  ##<----  this is the way to use it what is the possibility of getting a 1 or a 12 in 100 throws repeated 10000 times\n",
    "#sum(rng.binomial(9, 0.1, 20000) == 0)/20000. ----still confused!!!\n",
    "print(sum(manyDice == 2)/10000)\n",
    "print(manyDice.min())\n",
    "print(manyDice.max())\n",
    "values,counts = np.unique(manyDice,return_counts=True)\n",
    "print(counts,values)\n"
   ]
  },
  {
   "cell_type": "code",
   "execution_count": null,
   "id": "a44d887b-bef4-442f-87ef-a7e9c8eaf420",
   "metadata": {},
   "outputs": [],
   "source": []
  },
  {
   "cell_type": "code",
   "execution_count": null,
   "id": "1f97c9e6-f58a-419f-91c6-eb0e40bc137a",
   "metadata": {},
   "outputs": [],
   "source": [
    "plt.hist(manyDice,bins=[2,3,4,5,6,7,8,9,10,11,12,13],density=True,align=\"left\")\n",
    "#sns.distplot(manyDice, hist=False, label='binomial')"
   ]
  },
  {
   "cell_type": "markdown",
   "id": "cf5e9f00-b22d-47af-94df-72cc096e3863",
   "metadata": {},
   "source": [
    "### Three dice\n",
    "can get between 3 and 18 from three dice\n",
    "1 dice = 1/6 =.166\n",
    "2 dice =1/6 * 1/6 = .027\n",
    "3 dice =1/6 * 1/6 * 1/6 = .004\n",
    "\n",
    "check this - tired now\n"
   ]
  },
  {
   "cell_type": "code",
   "execution_count": null,
   "id": "1b47a8a4-adc6-4ac5-839c-c9205716c2ae",
   "metadata": {},
   "outputs": [],
   "source": [
    "possibilities = list(range(3,19))"
   ]
  },
  {
   "cell_type": "code",
   "execution_count": null,
   "id": "9757e5a2-aec1-4778-84f0-12adfdb82c30",
   "metadata": {},
   "outputs": [],
   "source": [
    "print(possibilities)"
   ]
  },
  {
   "cell_type": "code",
   "execution_count": null,
   "id": "b84a303e-a835-4d72-bce3-6c3e27b8ca96",
   "metadata": {},
   "outputs": [],
   "source": [
    "probabilities = [0.00462963,0.013888889,0.027777778,0.046296296,0.069444444,0.097222222,0.115740741,0.125,0.125,0.115740741,0.097222222,0.069444444,0.046296296,0.027777778,0.013888889,0.00462963]"
   ]
  },
  {
   "cell_type": "code",
   "execution_count": null,
   "id": "3e9b919d-afb6-4248-aa09-027b22a389e8",
   "metadata": {},
   "outputs": [],
   "source": [
    "plt.plot(possibilities,probabilities,color=\"r\")"
   ]
  },
  {
   "cell_type": "markdown",
   "id": "c7757c14-c51a-409c-8489-96f8c8dc50fd",
   "metadata": {},
   "source": [
    "Experiment with handmade \"observations\""
   ]
  },
  {
   "cell_type": "code",
   "execution_count": null,
   "id": "b04ea1b3-41c6-4c55-a02a-8b0904ecacb5",
   "metadata": {},
   "outputs": [],
   "source": [
    "theDice = [1,2,3,4,5,6]\n",
    "rng.choice(theDice)"
   ]
  },
  {
   "cell_type": "code",
   "execution_count": null,
   "id": "553c12d9-b29f-4e04-9a76-9ca952c829c8",
   "metadata": {},
   "outputs": [],
   "source": [
    "#roll the three dice a ten thousand times\n",
    "no_throws = 10000\n",
    "no_of_dice = 3\n",
    "outcomes = []\n",
    "for throw in range(no_throws):\n",
    "    sum_dice = 0\n",
    "    for dice in range(no_of_dice):\n",
    "        sum_dice += rng.choice(theDice)\n",
    "    outcomes.append(sum_dice)\n",
    "outcomes = np.array(outcomes)"
   ]
  },
  {
   "cell_type": "code",
   "execution_count": null,
   "id": "862daf49-9e2d-4a79-bf76-ec6164285808",
   "metadata": {},
   "outputs": [],
   "source": [
    "print(\"Mean \",outcomes.mean())\n",
    "print(\"Min  \",outcomes.min())\n",
    "print(\"Max  \",outcomes.max())\n",
    "print(\"sDev \",outcomes.std())"
   ]
  },
  {
   "cell_type": "code",
   "execution_count": null,
   "id": "0fd891bd-fefd-4ee0-ad03-c978e1f313b6",
   "metadata": {},
   "outputs": [],
   "source": [
    "#plot the above\n",
    "print(possibilities)\n",
    "bins = possibilities.copy()\n",
    "print(bins)\n",
    "bins.append(19)\n",
    "print(bins)"
   ]
  },
  {
   "cell_type": "code",
   "execution_count": null,
   "id": "15364381-79d0-4870-a2b2-cf8fd7220c4f",
   "metadata": {},
   "outputs": [],
   "source": [
    "plt.hist(outcomes,bins=bins,density=True,align='left')\n",
    "plt.plot(possibilities,probabilities,color=\"r\")"
   ]
  },
  {
   "cell_type": "markdown",
   "id": "1092c25f-aec2-40e9-807f-65c717bc12cc",
   "metadata": {},
   "source": [
    "Look at normal distribution using the mean and std dev of the \"observed\""
   ]
  },
  {
   "cell_type": "code",
   "execution_count": null,
   "id": "6aed8ffd-335b-4387-a556-5a55e6ab3141",
   "metadata": {},
   "outputs": [],
   "source": [
    "threeDice=rng.normal(10.54858,2.95,10000)\n"
   ]
  },
  {
   "cell_type": "code",
   "execution_count": null,
   "id": "bcd735b7-b0ee-4c72-9390-95bc5ba15724",
   "metadata": {},
   "outputs": [],
   "source": [
    "\n",
    "print(threeDice)"
   ]
  },
  {
   "cell_type": "code",
   "execution_count": null,
   "id": "23c2f2ab-5fa3-49a4-8087-270b2232e465",
   "metadata": {},
   "outputs": [],
   "source": [
    "values,counts = np.unique(threeDice,return_counts=True)"
   ]
  },
  {
   "cell_type": "code",
   "execution_count": null,
   "id": "5fcd20c0-f91f-4097-9eec-dee3818b6ed4",
   "metadata": {},
   "outputs": [],
   "source": [
    "print(values,counts)"
   ]
  },
  {
   "cell_type": "code",
   "execution_count": null,
   "id": "63d64851-166c-441b-8b78-9c6ea04bf808",
   "metadata": {},
   "outputs": [],
   "source": [
    "plt.hist(threeDice,bins=bins,density=True,align='left')\n",
    "plt.plot(possibilities,probabilities,color=\"r\")\n",
    "#plt.plot(values,counts,color=\"g\")\n",
    "plt.show()"
   ]
  },
  {
   "cell_type": "code",
   "execution_count": null,
   "id": "a81b3785-eb8d-47c1-9a5f-94c0f88a048d",
   "metadata": {},
   "outputs": [],
   "source": [
    "plt.plot(values,d3probs,color=\"r\")"
   ]
  },
  {
   "cell_type": "markdown",
   "id": "d891ff4b-b4ff-43ed-8840-2a631ecb42fd",
   "metadata": {},
   "source": [
    "Rolling dice is a discrete distribution, while the normal distribution, AKA the Gaussian distribution, is continuous by definition. The distribution is technically binomial, which approximates the normal distribution as n gets large.\n",
    "https://math.stackexchange.com/questions/1482813/is-rolling-a-dice-a-gauss-distribution"
   ]
  }
 ],
 "metadata": {
  "kernelspec": {
   "display_name": "Python 3",
   "language": "python",
   "name": "python3"
  },
  "language_info": {
   "codemirror_mode": {
    "name": "ipython",
    "version": 3
   },
   "file_extension": ".py",
   "mimetype": "text/x-python",
   "name": "python",
   "nbconvert_exporter": "python",
   "pygments_lexer": "ipython3",
   "version": "3.8.8"
  }
 },
 "nbformat": 4,
 "nbformat_minor": 5
}
