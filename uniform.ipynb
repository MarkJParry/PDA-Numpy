{
 "cells": [
  {
   "cell_type": "code",
   "execution_count": 1,
   "id": "45126663-ed27-40a3-82f9-88453d172237",
   "metadata": {
    "tags": []
   },
   "outputs": [],
   "source": [
    "import numpy as np\n",
    "import matplotlib.pyplot as plt\n",
    "import math\n",
    "import seaborn as sns\n",
    "\n",
    "rng = np.random.default_rng(seed=1)\n",
    "no_rolls=1000\n",
    "%matplotlib inline"
   ]
  },
  {
   "cell_type": "code",
   "execution_count": 2,
   "id": "6d552303-982a-45c9-a509-584d1995c433",
   "metadata": {},
   "outputs": [],
   "source": [
    "# Plot size.\n",
    "plt.rcParams[\"figure.figsize\"] = (10, 6)\n",
    "\n",
    "# Pyplot style.\n",
    "plt.style.use('seaborn')"
   ]
  },
  {
   "cell_type": "code",
   "execution_count": 3,
   "id": "9ca9e998-b110-46ec-a770-7d5f5b774c9a",
   "metadata": {},
   "outputs": [
    {
     "name": "stdout",
     "output_type": "stream",
     "text": [
      "['2 of Spades', '3 of Spades', '4 of Spades', '5 of Spades', '6 of Spades', '7 of Spades', '8 of Spades', '9 of Spades', '10 of Spades', 'Jack of Spades', 'Queen of Spades', 'King of Spades', 'Ace of Spades', '2 of Diamonds', '3 of Diamonds', '4 of Diamonds', '5 of Diamonds', '6 of Diamonds', '7 of Diamonds', '8 of Diamonds', '9 of Diamonds', '10 of Diamonds', 'Jack of Diamonds', 'Queen of Diamonds', 'King of Diamonds', 'Ace of Diamonds', '2 of Hearts', '3 of Hearts', '4 of Hearts', '5 of Hearts', '6 of Hearts', '7 of Hearts', '8 of Hearts', '9 of Hearts', '10 of Hearts', 'Jack of Hearts', 'Queen of Hearts', 'King of Hearts', 'Ace of Hearts', '2 of Clubs', '3 of Clubs', '4 of Clubs', '5 of Clubs', '6 of Clubs', '7 of Clubs', '8 of Clubs', '9 of Clubs', '10 of Clubs', 'Jack of Clubs', 'Queen of Clubs', 'King of Clubs', 'Ace of Clubs']\n"
     ]
    }
   ],
   "source": [
    "Suit = [\"Spades\",\"Diamonds\",\"Hearts\",\"Clubs\"]\n",
    "Card = [2,3,4,5,6,7,8,9,10,\"Jack\",\"Queen\",\"King\",\"Ace\"]\n",
    "Deck = []\n",
    "for s in Suit:\n",
    "    for c in Card:\n",
    "        Deck.append(str(c) + \" of \" + s)\n",
    "print(Deck)"
   ]
  },
  {
   "cell_type": "code",
   "execution_count": 4,
   "id": "8619d6df-ec52-4317-b54b-68d12b52cb58",
   "metadata": {},
   "outputs": [],
   "source": [
    "rng.shuffle(Deck)"
   ]
  },
  {
   "cell_type": "code",
   "execution_count": 5,
   "id": "7793fa71-13b1-48f4-99be-1670e4776602",
   "metadata": {},
   "outputs": [
    {
     "name": "stdout",
     "output_type": "stream",
     "text": [
      "['3 of Hearts', '8 of Spades', '7 of Hearts', '4 of Diamonds', 'Jack of Hearts', '5 of Diamonds', 'Queen of Diamonds', 'Jack of Diamonds', '6 of Hearts', '2 of Clubs', '5 of Spades', '3 of Diamonds', 'King of Diamonds', 'Jack of Spades', 'Ace of Diamonds', 'King of Clubs', 'King of Hearts', '2 of Spades', '9 of Diamonds', '9 of Spades', 'Queen of Clubs', '4 of Hearts', '6 of Diamonds', '8 of Diamonds', 'Jack of Clubs', '8 of Clubs', '6 of Spades', '10 of Diamonds', '9 of Hearts', '5 of Hearts', '3 of Spades', 'King of Spades', '3 of Clubs', '6 of Clubs', '10 of Clubs', '7 of Clubs', '2 of Hearts', '5 of Clubs', '10 of Hearts', '4 of Spades', 'Ace of Spades', 'Queen of Spades', 'Queen of Hearts', '7 of Spades', '10 of Spades', '8 of Hearts', '4 of Clubs', '9 of Clubs', '7 of Diamonds', '2 of Diamonds', 'Ace of Hearts', 'Ace of Clubs']\n"
     ]
    }
   ],
   "source": [
    "print(Deck)"
   ]
  },
  {
   "cell_type": "code",
   "execution_count": 6,
   "id": "e9f2018f-00a3-49f9-8dea-52e61ae43888",
   "metadata": {},
   "outputs": [
    {
     "data": {
      "text/plain": [
       "array(['Ace of Spades', '9 of Clubs', '6 of Diamonds', '7 of Hearts',\n",
       "       '5 of Clubs'], dtype='<U17')"
      ]
     },
     "execution_count": 6,
     "metadata": {},
     "output_type": "execute_result"
    }
   ],
   "source": [
    "#deal 5 cards i.e. randomly select 5 cards from the deck\n",
    "#this is 5 random samples from the deck it is not dealing from the deck\n",
    "rng.choice(Deck,5)"
   ]
  },
  {
   "cell_type": "code",
   "execution_count": 7,
   "id": "d23b4841-798a-4576-a13d-7e624784dc7f",
   "metadata": {},
   "outputs": [],
   "source": [
    "dist= rng.uniform(.5,4.5,no_rolls)\n",
    "#print(dist)"
   ]
  },
  {
   "cell_type": "code",
   "execution_count": 8,
   "id": "d683dbce-4235-410a-8fa5-5370e13b3ed4",
   "metadata": {},
   "outputs": [
    {
     "data": {
      "image/png": "[encoded data removed]",
      "text/plain": [
       "<Figure size 576x396 with 1 Axes>"
      ]
     },
     "metadata": {},
     "output_type": "display_data"
    }
   ],
   "source": [
    "#count, bins, ignored = plt.hist(dist, 4, density=True)\n",
    "#plt.plot(bins, np.ones_like(bins), linewidth=2, color='r')\n",
    "#plt.show()\n",
    "plt.hist(dist,4,density=True)\n",
    "\n",
    "#chances of getting heart,club,spade or diamond are one in 4 or .25\n",
    "prob=np.full(6,.25)\n",
    "plt.plot(prob,color=\"r\")\n",
    "plt.show()"
   ]
  },
  {
   "cell_type": "markdown",
   "id": "855a8ebe-ce9d-460f-8b71-44461d50386e",
   "metadata": {},
   "source": [
    "### Handmade trial"
   ]
  },
  {
   "cell_type": "code",
   "execution_count": 9,
   "id": "51804a74-a70a-44fd-abea-0718b7dfda8d",
   "metadata": {},
   "outputs": [
    {
     "name": "stdout",
     "output_type": "stream",
     "text": [
      "4\n"
     ]
    }
   ],
   "source": [
    "#try with a dice\n",
    "Dice=[1,2,3,4,5,6]\n",
    "#single roll\n",
    "roll = rng.choice(Dice)\n",
    "print(roll)"
   ]
  },
  {
   "cell_type": "code",
   "execution_count": 10,
   "id": "b042657d-1325-493c-a5dc-429b9886298f",
   "metadata": {},
   "outputs": [],
   "source": [
    "#multiple rolls\n",
    "Rolls = rng.integers(1,7,no_rolls)\n",
    "#print(Rolls)"
   ]
  },
  {
   "cell_type": "code",
   "execution_count": 11,
   "id": "318428b4-0d5c-4c60-b0fc-cca886825279",
   "metadata": {},
   "outputs": [
    {
     "name": "stdout",
     "output_type": "stream",
     "text": [
      "[  0 176 153 168 190 151 162]\n"
     ]
    }
   ],
   "source": [
    "counts = np.bincount(Rolls)\n",
    "print(counts)\n",
    "#plt.hist(Rolls,6,density=True)\n",
    "#Dist = rng.uniform(1,6,50)\n",
    "#plt.hist(Dist,6,density=True)"
   ]
  },
  {
   "cell_type": "code",
   "execution_count": 12,
   "id": "7de3815f-cca6-4218-b3e2-72219650b8f6",
   "metadata": {},
   "outputs": [],
   "source": [
    "values,counts = np.unique(Rolls,return_counts=True)"
   ]
  },
  {
   "cell_type": "code",
   "execution_count": 13,
   "id": "c0655f28-3295-4ccc-8d71-85723d5805ad",
   "metadata": {},
   "outputs": [
    {
     "name": "stdout",
     "output_type": "stream",
     "text": [
      "[1 2 3 4 5 6]\n"
     ]
    }
   ],
   "source": [
    "print(values)"
   ]
  },
  {
   "cell_type": "code",
   "execution_count": 14,
   "id": "eb23fca5-34fa-48b5-81b6-bbfaed3c3513",
   "metadata": {},
   "outputs": [
    {
     "name": "stdout",
     "output_type": "stream",
     "text": [
      "[176 153 168 190 151 162]\n"
     ]
    }
   ],
   "source": [
    "print(counts)"
   ]
  },
  {
   "cell_type": "code",
   "execution_count": 15,
   "id": "2ae9dcfe-a3c3-4e4e-b4f6-e43dfafed80b",
   "metadata": {},
   "outputs": [
    {
     "data": {
      "image/png": "[encoded data removed]",
      "text/plain": [
       "<Figure size 576x396 with 1 Axes>"
      ]
     },
     "metadata": {},
     "output_type": "display_data"
    }
   ],
   "source": [
    "plt.plot(values,counts)\n",
    "ex=np.full(8,166)\n",
    "plt.plot(ex)\n",
    "plt.show()"
   ]
  },
  {
   "cell_type": "code",
   "execution_count": 16,
   "id": "1826dfd0-c2f4-474d-9d07-cf1de0bc670b",
   "metadata": {},
   "outputs": [
    {
     "name": "stdout",
     "output_type": "stream",
     "text": [
      "[0.166 0.166 0.166 0.166 0.166 0.166 0.166 0.166]\n"
     ]
    },
    {
     "data": {
      "image/png": "[encoded data removed]",
      "text/plain": [
       "<Figure size 576x396 with 1 Axes>"
      ]
     },
     "metadata": {},
     "output_type": "display_data"
    }
   ],
   "source": [
    "#increase no_rolls\n",
    "#no_rolls = 10000\n",
    "#regen\n",
    "Rolls = rng.integers(1,7,no_rolls)\n",
    "#plt.plot(counts,color=\"g\")\n",
    "#plt.plot(expected,color=\"r\")\n",
    "\n",
    "expected = np.full(8,.166)\n",
    "print(expected)\n",
    "plt.hist(Rolls,bins=[1,2,3,4,5,6,7],density=True,align='left')\n",
    "plt.plot(expected,color=\"r\")\n",
    "plt.show()"
   ]
  },
  {
   "cell_type": "code",
   "execution_count": 17,
   "id": "6bb623bf-4add-46de-9467-4ac0e01e5574",
   "metadata": {},
   "outputs": [],
   "source": [
    "plt.show()"
   ]
  },
  {
   "cell_type": "markdown",
   "id": "3b03e845-166a-46a6-ad5c-429b810da946",
   "metadata": {},
   "source": [
    "### Using uniform"
   ]
  },
  {
   "cell_type": "code",
   "execution_count": 18,
   "id": "19ff512f-fa13-4807-a274-3f12b17526da",
   "metadata": {},
   "outputs": [
    {
     "name": "stdout",
     "output_type": "stream",
     "text": [
      "[3.96955011 4.04753597 5.74446131 6.56613384 1.96736622 6.31548483\n",
      " 2.0359263  4.54143757 1.02800924 6.06994887 3.47302719 2.3002692\n",
      " 6.67697991 1.51495159 3.11173341 3.79725799 2.58496625 3.14634581\n",
      " 6.06367034 2.18011219 4.34094664 2.2743041  4.71595091 2.50244734\n",
      " 2.89230766 4.16074243 2.51077034 5.37780364 2.34754015 6.0239383\n",
      " 5.20481593 1.77535861 4.12093141 1.39719826 2.03292683 2.87735296\n",
      " 5.2471147  4.70968558 4.19219387 2.0941819  2.78479674 5.11936345\n",
      " 3.94351608 2.93584135 1.41404963 1.27623003 6.54636907 3.49623045\n",
      " 6.3558571  2.45641852 4.54173608 2.53295508 6.29462153 2.34245929\n",
      " 4.27452894 6.798451   5.38039301 4.32708818 3.1853512  4.17996109\n",
      " 1.02378761 1.78420359 2.67459462 1.28103063 2.42939882 3.52657371\n",
      " 6.14899143 6.51424797 1.12388113 3.75938906 5.10094677 5.51405907\n",
      " 1.95586603 1.0434196  2.49628509 2.88520061 2.1229772  2.32288257\n",
      " 4.97200209 2.3303734  2.13308099 2.62506374 3.73238731 2.18910038\n",
      " 3.97370873 6.62181392 5.93057363 5.50816163 6.65494529 6.53001482\n",
      " 4.31822772 5.15035465 3.11607236 4.22995705 6.52392982 4.04571922\n",
      " 3.52760148 4.94885387 3.79041406 1.57045091]\n"
     ]
    }
   ],
   "source": [
    "TheDice = rng.uniform(1,7,no_rolls)\n",
    "print(TheDice[:100])"
   ]
  },
  {
   "cell_type": "code",
   "execution_count": 19,
   "id": "5328df9f-3156-4eb3-bb10-6cb5d1b4e417",
   "metadata": {},
   "outputs": [
    {
     "name": "stdout",
     "output_type": "stream",
     "text": [
      "[5.]\n"
     ]
    }
   ],
   "source": [
    "test = np.around(rng.uniform(low = 1, high = 6, size = 1),0)\n",
    "print(test)"
   ]
  },
  {
   "cell_type": "code",
   "execution_count": 20,
   "id": "decd38bd-8a36-4830-9420-90c6ce3ffed6",
   "metadata": {},
   "outputs": [
    {
     "data": {
      "image/png": "[encoded data removed]",
      "text/plain": [
       "<Figure size 576x396 with 1 Axes>"
      ]
     },
     "metadata": {},
     "output_type": "display_data"
    }
   ],
   "source": [
    "expected=np.full(8,.166)\n",
    "plt.hist(TheDice,bins=[1,2,3,4,5,6,7],density=True,align=\"left\")\n",
    "#plt.plot(counts,color=\"g\")\n",
    "plt.plot(expected,color=\"r\")\n",
    "plt.show()"
   ]
  },
  {
   "cell_type": "markdown",
   "id": "a0b7b256-bb3b-4e58-829f-c640cf6b4277",
   "metadata": {},
   "source": [
    "The more rolls we sample the closer the bars get to the expected probability for each face of the dice --- need to figure how to show this as probabilities between 0 an 1 ie 16% = .16  NB - this is exactly what density=True does"
   ]
  },
  {
   "cell_type": "code",
   "execution_count": 21,
   "id": "0f53bb02-2c52-486c-9f81-7a5759ead1ac",
   "metadata": {},
   "outputs": [
    {
     "data": {
      "image/png": "[encoded data removed]",
      "text/plain": [
       "<Figure size 576x396 with 1 Axes>"
      ]
     },
     "metadata": {},
     "output_type": "display_data"
    }
   ],
   "source": [
    "TheDice = rng.uniform(1,7,no_rolls*100)\n",
    "plt.hist(TheDice,bins=[1,2,3,4,5,6,7],align='left',density=True)\n",
    "plt.plot(expected,color=\"r\")\n",
    "plt.show()"
   ]
  },
  {
   "cell_type": "markdown",
   "id": "e878f6c1-3a8b-4707-a07a-628ba3d468e2",
   "metadata": {},
   "source": [
    "### Triangular or 2 dice"
   ]
  },
  {
   "cell_type": "markdown",
   "id": "d99c0172-5c9f-4659-8137-d2f9c6b0dc8c",
   "metadata": {},
   "source": [
    "Two dice will give the range 2 to 12\n",
    "with probabilities 0.027777778,0.055555556,0.083333333,0.111111111,0.138888889,0.166666667,0.138888889,0.111111111,0.083333333,0.055555556,0.027777778\n"
   ]
  },
  {
   "cell_type": "code",
   "execution_count": 22,
   "id": "86ef50a8-4477-46f2-a0e4-c60a83048e52",
   "metadata": {},
   "outputs": [],
   "source": [
    "values = [2,3,4,5,6,7,8,9,10,11,12]\n",
    "probs = [0.027777778,0.055555556,0.083333333,0.111111111,0.138888889,0.166666667,0.138888889,0.111111111,0.083333333,0.055555556,0.027777778]"
   ]
  },
  {
   "cell_type": "code",
   "execution_count": 23,
   "id": "ad28ab0c-40c8-42fb-ac1d-4b8233a97a02",
   "metadata": {},
   "outputs": [
    {
     "data": {
      "text/plain": [
       "[<matplotlib.lines.Line2D at 0x15390a64700>]"
      ]
     },
     "execution_count": 23,
     "metadata": {},
     "output_type": "execute_result"
    },
    {
     "data": {
      "image/png": "[encoded data removed]",
      "text/plain": [
       "<Figure size 576x396 with 1 Axes>"
      ]
     },
     "metadata": {},
     "output_type": "display_data"
    }
   ],
   "source": [
    "twoDice = rng.triangular(2,7,13,no_rolls)\n",
    "plt.hist(twoDice,bins=[2,3,4,5,6,7,8,9,10,11,12,13],density=True,align='left')\n",
    "plt.plot(values,probs,color=\"r\")"
   ]
  },
  {
   "cell_type": "markdown",
   "id": "c8ee128c-f1d4-410e-9591-3b434e0546bc",
   "metadata": {},
   "source": [
    "### Binomial or many dice   \n",
    "\n",
    "binomial parameters are (n,p,size)   \n",
    "where n is the number of trials,p is the probability of the outcome and size is the number of tests\n",
    "\n",
    "need to prove this to myself - what are generated numbers?\n",
    "\n",
    "2,12 have a probability of .027 when two dice are thrown"
   ]
  },
  {
   "cell_type": "code",
   "execution_count": 131,
   "id": "09ad990f-2a72-487f-8399-25da1d23ff68",
   "metadata": {},
   "outputs": [
    {
     "name": "stdout",
     "output_type": "stream",
     "text": [
      "[1 4 1 ... 2 2 1]\n",
      "2.6973\n",
      "0.2497\n",
      "0\n",
      "11\n",
      "[ 690 1779 2497 2187 1467  787  390  144   47   10    2] [ 0  1  2  3  4  5  6  7  8  9 11]\n"
     ]
    }
   ],
   "source": [
    "manyDice = rng.binomial(100,.027,10000)\n",
    "print(manyDice)\n",
    "print(manyDice.mean())  ##<----  this is the way to use it what is the possibility of getting a 1 or a 12 in 100 throws repeated 10000 times\n",
    "#sum(rng.binomial(9, 0.1, 20000) == 0)/20000. ----still confused!!!\n",
    "print(sum(manyDice == 2)/10000)\n",
    "print(manyDice.min())\n",
    "print(manyDice.max())\n",
    "values,counts = np.unique(manyDice,return_counts=True)\n",
    "print(counts,values)\n"
   ]
  },
  {
   "cell_type": "code",
   "execution_count": null,
   "id": "a44d887b-bef4-442f-87ef-a7e9c8eaf420",
   "metadata": {},
   "outputs": [],
   "source": []
  },
  {
   "cell_type": "code",
   "execution_count": 115,
   "id": "1f97c9e6-f58a-419f-91c6-eb0e40bc137a",
   "metadata": {},
   "outputs": [
    {
     "data": {
      "text/plain": [
       "(array([0.32837999, 0.3039671 , 0.19026138, 0.10561231, 0.04471275,\n",
       "        0.01830967, 0.00676662, 0.00145947, 0.00053072, 0.        ,\n",
       "        0.        ]),\n",
       " array([ 2,  3,  4,  5,  6,  7,  8,  9, 10, 11, 12, 13]),\n",
       " <BarContainer object of 11 artists>)"
      ]
     },
     "execution_count": 115,
     "metadata": {},
     "output_type": "execute_result"
    },
    {
     "data": {
      "image/png": "[encoded data removed]",
      "text/plain": [
       "<Figure size 576x396 with 1 Axes>"
      ]
     },
     "metadata": {},
     "output_type": "display_data"
    }
   ],
   "source": [
    "plt.hist(manyDice,bins=[2,3,4,5,6,7,8,9,10,11,12,13],density=True,align=\"left\")\n",
    "#sns.distplot(manyDice, hist=False, label='binomial')"
   ]
  },
  {
   "cell_type": "markdown",
   "id": "cf5e9f00-b22d-47af-94df-72cc096e3863",
   "metadata": {},
   "source": [
    "### Three dice\n",
    "can get between 3 and 18 from three dice\n",
    "1 dice = 1/6 =.166\n",
    "2 dice =1/6 * 1/6 = .027\n",
    "3 dice =1/6 * 1/6 * 1/6 = .004\n",
    "\n",
    "check this - tired now\n"
   ]
  },
  {
   "cell_type": "code",
   "execution_count": 99,
   "id": "1b47a8a4-adc6-4ac5-839c-c9205716c2ae",
   "metadata": {},
   "outputs": [],
   "source": [
    "possibilities = list(range(3,19))"
   ]
  },
  {
   "cell_type": "code",
   "execution_count": 95,
   "id": "9757e5a2-aec1-4778-84f0-12adfdb82c30",
   "metadata": {},
   "outputs": [
    {
     "name": "stdout",
     "output_type": "stream",
     "text": [
      "[3, 4, 5, 6, 7, 8, 9, 10, 11, 12, 13, 14, 15, 16, 17, 18]\n"
     ]
    }
   ],
   "source": [
    "print(possibilities)"
   ]
  },
  {
   "cell_type": "code",
   "execution_count": 47,
   "id": "b84a303e-a835-4d72-bce3-6c3e27b8ca96",
   "metadata": {},
   "outputs": [],
   "source": [
    "probabilities = [0.00462963,0.013888889,0.027777778,0.046296296,0.069444444,0.097222222,0.115740741,0.125,0.125,0.115740741,0.097222222,0.069444444,0.046296296,0.027777778,0.013888889,0.00462963]"
   ]
  },
  {
   "cell_type": "code",
   "execution_count": 53,
   "id": "3e9b919d-afb6-4248-aa09-027b22a389e8",
   "metadata": {},
   "outputs": [
    {
     "data": {
      "text/plain": [
       "[<matplotlib.lines.Line2D at 0x153909c7c70>]"
      ]
     },
     "execution_count": 53,
     "metadata": {},
     "output_type": "execute_result"
    },
    {
     "data": {
      "image/png": "[encoded data removed]",
      "text/plain": [
       "<Figure size 576x396 with 1 Axes>"
      ]
     },
     "metadata": {},
     "output_type": "display_data"
    }
   ],
   "source": [
    "plt.plot(possibilities,probabilities,color=\"r\")"
   ]
  },
  {
   "cell_type": "markdown",
   "id": "c7757c14-c51a-409c-8489-96f8c8dc50fd",
   "metadata": {},
   "source": [
    "Experiment with handmade \"observations\""
   ]
  },
  {
   "cell_type": "code",
   "execution_count": 49,
   "id": "b04ea1b3-41c6-4c55-a02a-8b0904ecacb5",
   "metadata": {},
   "outputs": [
    {
     "data": {
      "text/plain": [
       "3"
      ]
     },
     "execution_count": 49,
     "metadata": {},
     "output_type": "execute_result"
    }
   ],
   "source": [
    "theDice = [1,2,3,4,5,6]\n",
    "rng.choice(theDice)"
   ]
  },
  {
   "cell_type": "code",
   "execution_count": 64,
   "id": "553c12d9-b29f-4e04-9a76-9ca952c829c8",
   "metadata": {},
   "outputs": [],
   "source": [
    "#roll the three dice a ten thousand times\n",
    "no_throws = 10000\n",
    "no_of_dice = 3\n",
    "outcomes = []\n",
    "for throw in range(no_throws):\n",
    "    sum_dice = 0\n",
    "    for dice in range(no_of_dice):\n",
    "        sum_dice += rng.choice(theDice)\n",
    "    outcomes.append(sum_dice)\n",
    "outcomes = np.array(outcomes)"
   ]
  },
  {
   "cell_type": "code",
   "execution_count": 66,
   "id": "862daf49-9e2d-4a79-bf76-ec6164285808",
   "metadata": {},
   "outputs": [
    {
     "name": "stdout",
     "output_type": "stream",
     "text": [
      "Mean  10.4672\n",
      "Min   3\n",
      "Max   18\n",
      "sDev  2.955422839459694\n"
     ]
    }
   ],
   "source": [
    "print(\"Mean \",outcomes.mean())\n",
    "print(\"Min  \",outcomes.min())\n",
    "print(\"Max  \",outcomes.max())\n",
    "print(\"sDev \",outcomes.std())"
   ]
  },
  {
   "cell_type": "code",
   "execution_count": 102,
   "id": "0fd891bd-fefd-4ee0-ad03-c978e1f313b6",
   "metadata": {},
   "outputs": [
    {
     "name": "stdout",
     "output_type": "stream",
     "text": [
      "[3, 4, 5, 6, 7, 8, 9, 10, 11, 12, 13, 14, 15, 16, 17, 18]\n",
      "[3, 4, 5, 6, 7, 8, 9, 10, 11, 12, 13, 14, 15, 16, 17, 18]\n",
      "[3, 4, 5, 6, 7, 8, 9, 10, 11, 12, 13, 14, 15, 16, 17, 18, 19]\n"
     ]
    }
   ],
   "source": [
    "#plot the above\n",
    "print(possibilities)\n",
    "bins = possibilities.copy()\n",
    "print(bins)\n",
    "bins.append(19)\n",
    "print(bins)"
   ]
  },
  {
   "cell_type": "code",
   "execution_count": 103,
   "id": "15364381-79d0-4870-a2b2-cf8fd7220c4f",
   "metadata": {},
   "outputs": [
    {
     "data": {
      "text/plain": [
       "[<matplotlib.lines.Line2D at 0x1539237a340>]"
      ]
     },
     "execution_count": 103,
     "metadata": {},
     "output_type": "execute_result"
    },
    {
     "data": {
      "image/png": "[encoded data removed]",
      "text/plain": [
       "<Figure size 576x396 with 1 Axes>"
      ]
     },
     "metadata": {},
     "output_type": "display_data"
    }
   ],
   "source": [
    "plt.hist(outcomes,bins=bins,density=True,align='left')\n",
    "plt.plot(possibilities,probabilities,color=\"r\")"
   ]
  },
  {
   "cell_type": "markdown",
   "id": "1092c25f-aec2-40e9-807f-65c717bc12cc",
   "metadata": {},
   "source": [
    "Look at normal distribution using the mean and std dev of the \"observed\""
   ]
  },
  {
   "cell_type": "code",
   "execution_count": 106,
   "id": "6aed8ffd-335b-4387-a556-5a55e6ab3141",
   "metadata": {},
   "outputs": [],
   "source": [
    "threeDice=rng.normal(10.54858,2.95,10000)\n"
   ]
  },
  {
   "cell_type": "code",
   "execution_count": 107,
   "id": "bcd735b7-b0ee-4c72-9390-95bc5ba15724",
   "metadata": {},
   "outputs": [
    {
     "name": "stdout",
     "output_type": "stream",
     "text": [
      "[17.04677275  9.88527435  8.17204837 ... 10.67809274 11.91284957\n",
      " 11.09220504]\n"
     ]
    }
   ],
   "source": [
    "\n",
    "print(threeDice)"
   ]
  },
  {
   "cell_type": "code",
   "execution_count": 109,
   "id": "23c2f2ab-5fa3-49a4-8087-270b2232e465",
   "metadata": {},
   "outputs": [],
   "source": [
    "values,counts = np.unique(threeDice,return_counts=True)"
   ]
  },
  {
   "cell_type": "code",
   "execution_count": 110,
   "id": "5fcd20c0-f91f-4097-9eec-dee3818b6ed4",
   "metadata": {},
   "outputs": [
    {
     "name": "stdout",
     "output_type": "stream",
     "text": [
      "[ 0.29660392  0.5275694   0.7387865  ... 20.89714616 21.04689918\n",
      " 22.43352275] [1 1 1 ... 1 1 1]\n"
     ]
    }
   ],
   "source": [
    "print(values,counts)"
   ]
  },
  {
   "cell_type": "code",
   "execution_count": 112,
   "id": "63d64851-166c-441b-8b78-9c6ea04bf808",
   "metadata": {},
   "outputs": [
    {
     "data": {
      "image/png": "[encoded data removed]",
      "text/plain": [
       "<Figure size 576x396 with 1 Axes>"
      ]
     },
     "metadata": {},
     "output_type": "display_data"
    }
   ],
   "source": [
    "plt.hist(threeDice,bins=bins,density=True,align='left')\n",
    "plt.plot(possibilities,probabilities,color=\"r\")\n",
    "#plt.plot(values,counts,color=\"g\")\n",
    "plt.show()"
   ]
  },
  {
   "cell_type": "code",
   "execution_count": null,
   "id": "a81b3785-eb8d-47c1-9a5f-94c0f88a048d",
   "metadata": {},
   "outputs": [],
   "source": [
    "plt.plot(values,d3probs,color=\"r\")"
   ]
  },
  {
   "cell_type": "markdown",
   "id": "d891ff4b-b4ff-43ed-8840-2a631ecb42fd",
   "metadata": {},
   "source": [
    "Rolling dice is a discrete distribution, while the normal distribution, AKA the Gaussian distribution, is continuous by definition. The distribution is technically binomial, which approximates the normal distribution as n gets large.\n",
    "https://math.stackexchange.com/questions/1482813/is-rolling-a-dice-a-gauss-distribution"
   ]
  }
 ],
 "metadata": {
  "kernelspec": {
   "display_name": "Python 3",
   "language": "python",
   "name": "python3"
  },
  "language_info": {
   "codemirror_mode": {
    "name": "ipython",
    "version": 3
   },
   "file_extension": ".py",
   "mimetype": "text/x-python",
   "name": "python",
   "nbconvert_exporter": "python",
   "pygments_lexer": "ipython3",
   "version": "3.8.8"
  }
 },
 "nbformat": 4,
 "nbformat_minor": 5
}
